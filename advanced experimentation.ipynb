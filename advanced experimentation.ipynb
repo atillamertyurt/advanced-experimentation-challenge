{
 "cells": [
  {
   "cell_type": "code",
   "execution_count": 1,
   "metadata": {},
   "outputs": [],
   "source": [
    "import pandas as pd\n",
    "import numpy as np\n",
    "import matplotlib as plt\n",
    "import scipy.stats as stats\n",
    "from statsmodels.stats.multicomp import pairwise_tukeyhsd\n",
    "from scipy.stats import ttest_ind, kruskal\n",
    "%matplotlib inline"
   ]
  },
  {
   "cell_type": "code",
   "execution_count": 2,
   "metadata": {},
   "outputs": [],
   "source": [
    "# Import data and sort by deadline date\n",
    "df = pd.read_csv(\"data_ess.csv\")\n",
    "\n",
    "# Replace dataframe values with actual values for better visualization\n",
    "df['year'] = df['year'].map({6: 2012, 7: 2014})\n",
    "df['gndr'] = df['gndr'].map({1: 'Male', 2: 'Female'})\n",
    "df['partner'] = df['partner'].map({1: 'Together', 2: 'Alone'})\n",
    "df['cntry'] = df['cntry'].map({'CH': 'Switzerland',\n",
    "                                'CZ': 'Czech Republic',\n",
    "                                'DE': 'Denmark',\n",
    "                                'ES': 'Spain',\n",
    "                                'NO': 'Norway',\n",
    "                                'SE': 'Sweden'})"
   ]
  },
  {
   "cell_type": "code",
   "execution_count": 3,
   "metadata": {},
   "outputs": [
    {
     "data": {
      "text/html": [
       "<div>\n",
       "<style scoped>\n",
       "    .dataframe tbody tr th:only-of-type {\n",
       "        vertical-align: middle;\n",
       "    }\n",
       "\n",
       "    .dataframe tbody tr th {\n",
       "        vertical-align: top;\n",
       "    }\n",
       "\n",
       "    .dataframe thead th {\n",
       "        text-align: right;\n",
       "    }\n",
       "</style>\n",
       "<table border=\"1\" class=\"dataframe\">\n",
       "  <thead>\n",
       "    <tr style=\"text-align: right;\">\n",
       "      <th></th>\n",
       "      <th>cntry</th>\n",
       "      <th>idno</th>\n",
       "      <th>year</th>\n",
       "      <th>tvtot</th>\n",
       "      <th>ppltrst</th>\n",
       "      <th>pplfair</th>\n",
       "      <th>pplhlp</th>\n",
       "      <th>happy</th>\n",
       "      <th>sclmeet</th>\n",
       "      <th>sclact</th>\n",
       "      <th>gndr</th>\n",
       "      <th>agea</th>\n",
       "      <th>partner</th>\n",
       "    </tr>\n",
       "  </thead>\n",
       "  <tbody>\n",
       "    <tr>\n",
       "      <td>0</td>\n",
       "      <td>Switzerland</td>\n",
       "      <td>5</td>\n",
       "      <td>2012</td>\n",
       "      <td>3.0</td>\n",
       "      <td>3.0</td>\n",
       "      <td>10.0</td>\n",
       "      <td>5.0</td>\n",
       "      <td>8.0</td>\n",
       "      <td>5.0</td>\n",
       "      <td>4.0</td>\n",
       "      <td>Female</td>\n",
       "      <td>60.0</td>\n",
       "      <td>Together</td>\n",
       "    </tr>\n",
       "    <tr>\n",
       "      <td>1</td>\n",
       "      <td>Switzerland</td>\n",
       "      <td>25</td>\n",
       "      <td>2012</td>\n",
       "      <td>6.0</td>\n",
       "      <td>5.0</td>\n",
       "      <td>7.0</td>\n",
       "      <td>5.0</td>\n",
       "      <td>9.0</td>\n",
       "      <td>3.0</td>\n",
       "      <td>2.0</td>\n",
       "      <td>Female</td>\n",
       "      <td>59.0</td>\n",
       "      <td>Together</td>\n",
       "    </tr>\n",
       "    <tr>\n",
       "      <td>2</td>\n",
       "      <td>Switzerland</td>\n",
       "      <td>26</td>\n",
       "      <td>2012</td>\n",
       "      <td>1.0</td>\n",
       "      <td>8.0</td>\n",
       "      <td>8.0</td>\n",
       "      <td>8.0</td>\n",
       "      <td>7.0</td>\n",
       "      <td>6.0</td>\n",
       "      <td>3.0</td>\n",
       "      <td>Male</td>\n",
       "      <td>24.0</td>\n",
       "      <td>Alone</td>\n",
       "    </tr>\n",
       "    <tr>\n",
       "      <td>3</td>\n",
       "      <td>Switzerland</td>\n",
       "      <td>28</td>\n",
       "      <td>2012</td>\n",
       "      <td>4.0</td>\n",
       "      <td>6.0</td>\n",
       "      <td>6.0</td>\n",
       "      <td>7.0</td>\n",
       "      <td>10.0</td>\n",
       "      <td>6.0</td>\n",
       "      <td>2.0</td>\n",
       "      <td>Female</td>\n",
       "      <td>64.0</td>\n",
       "      <td>Together</td>\n",
       "    </tr>\n",
       "    <tr>\n",
       "      <td>4</td>\n",
       "      <td>Switzerland</td>\n",
       "      <td>29</td>\n",
       "      <td>2012</td>\n",
       "      <td>5.0</td>\n",
       "      <td>6.0</td>\n",
       "      <td>7.0</td>\n",
       "      <td>5.0</td>\n",
       "      <td>8.0</td>\n",
       "      <td>7.0</td>\n",
       "      <td>2.0</td>\n",
       "      <td>Female</td>\n",
       "      <td>55.0</td>\n",
       "      <td>Together</td>\n",
       "    </tr>\n",
       "  </tbody>\n",
       "</table>\n",
       "</div>"
      ],
      "text/plain": [
       "         cntry  idno  year  tvtot  ppltrst  pplfair  pplhlp  happy  sclmeet  \\\n",
       "0  Switzerland     5  2012    3.0      3.0     10.0     5.0    8.0      5.0   \n",
       "1  Switzerland    25  2012    6.0      5.0      7.0     5.0    9.0      3.0   \n",
       "2  Switzerland    26  2012    1.0      8.0      8.0     8.0    7.0      6.0   \n",
       "3  Switzerland    28  2012    4.0      6.0      6.0     7.0   10.0      6.0   \n",
       "4  Switzerland    29  2012    5.0      6.0      7.0     5.0    8.0      7.0   \n",
       "\n",
       "   sclact    gndr  agea   partner  \n",
       "0     4.0  Female  60.0  Together  \n",
       "1     2.0  Female  59.0  Together  \n",
       "2     3.0    Male  24.0     Alone  \n",
       "3     2.0  Female  64.0  Together  \n",
       "4     2.0  Female  55.0  Together  "
      ]
     },
     "execution_count": 3,
     "metadata": {},
     "output_type": "execute_result"
    }
   ],
   "source": [
    "# Preview the data\n",
    "df.head()"
   ]
  },
  {
   "cell_type": "markdown",
   "metadata": {},
   "source": [
    "1. Did people become less trusting from 2012 to 2014? Compute results for each country in the sample"
   ]
  },
  {
   "cell_type": "code",
   "execution_count": 4,
   "metadata": {},
   "outputs": [
    {
     "data": {
      "text/plain": [
       "array([[<matplotlib.axes._subplots.AxesSubplot object at 0x0000022AB020A988>,\n",
       "        <matplotlib.axes._subplots.AxesSubplot object at 0x0000022AB0047FC8>,\n",
       "        <matplotlib.axes._subplots.AxesSubplot object at 0x0000022AB02005C8>],\n",
       "       [<matplotlib.axes._subplots.AxesSubplot object at 0x0000022AB02B1348>,\n",
       "        <matplotlib.axes._subplots.AxesSubplot object at 0x0000022AB05360C8>,\n",
       "        <matplotlib.axes._subplots.AxesSubplot object at 0x0000022AB0565E08>],\n",
       "       [<matplotlib.axes._subplots.AxesSubplot object at 0x0000022AB059CB88>,\n",
       "        <matplotlib.axes._subplots.AxesSubplot object at 0x0000022AB05D1908>,\n",
       "        <matplotlib.axes._subplots.AxesSubplot object at 0x0000022AB05D8788>],\n",
       "       [<matplotlib.axes._subplots.AxesSubplot object at 0x0000022AB0610708>,\n",
       "        <matplotlib.axes._subplots.AxesSubplot object at 0x0000022AB0676248>,\n",
       "        <matplotlib.axes._subplots.AxesSubplot object at 0x0000022AB06AD348>]],\n",
       "      dtype=object)"
      ]
     },
     "execution_count": 4,
     "metadata": {},
     "output_type": "execute_result"
    },
    {
     "data": {
      "image/png": "[encoded data removed]",
      "text/plain": [
       "<Figure size 864x1296 with 12 Axes>"
      ]
     },
     "metadata": {
      "needs_background": "light"
     },
     "output_type": "display_data"
    }
   ],
   "source": [
    "plt.rcParams['figure.figsize'] = [12,18]\n",
    "\n",
    "df.hist(by=['cntry', 'year'], column='ppltrst')"
   ]
  },
  {
   "cell_type": "code",
   "execution_count": 5,
   "metadata": {},
   "outputs": [
    {
     "data": {
      "text/html": [
       "<table class=\"simpletable\">\n",
       "<caption>Multiple Comparison of Means - Tukey HSD, FWER=0.05</caption>\n",
       "<tr>\n",
       "      <th>group1</th>       <th>group2</th>    <th>meandiff</th>  <th>p-adj</th>  <th>lower</th>   <th>upper</th>  <th>reject</th>\n",
       "</tr>\n",
       "<tr>\n",
       "  <td>Czech Republic</td>   <td>Denmark</td>    <td>0.8428</td>  <td>0.3003</td> <td>-0.3146</td> <td>2.0001</td>   <td>False</td>\n",
       "</tr>\n",
       "<tr>\n",
       "  <td>Czech Republic</td>   <td>Norway</td>     <td>2.2445</td>   <td>0.001</td> <td>2.0116</td>  <td>2.4773</td>   <td>True</td> \n",
       "</tr>\n",
       "<tr>\n",
       "  <td>Czech Republic</td>    <td>Spain</td>     <td>0.6555</td>   <td>0.001</td> <td>0.4439</td>   <td>0.867</td>   <td>True</td> \n",
       "</tr>\n",
       "<tr>\n",
       "  <td>Czech Republic</td>   <td>Sweden</td>     <td>1.7625</td>   <td>0.001</td> <td>1.5393</td>  <td>1.9857</td>   <td>True</td> \n",
       "</tr>\n",
       "<tr>\n",
       "  <td>Czech Republic</td> <td>Switzerland</td>   <td>1.346</td>   <td>0.001</td> <td>1.1151</td>  <td>1.5768</td>   <td>True</td> \n",
       "</tr>\n",
       "<tr>\n",
       "      <td>Denmark</td>      <td>Norway</td>     <td>1.4017</td>  <td>0.0072</td> <td>0.2463</td>  <td>2.5572</td>   <td>True</td> \n",
       "</tr>\n",
       "<tr>\n",
       "      <td>Denmark</td>       <td>Spain</td>     <td>-0.1873</td>   <td>0.9</td>  <td>-1.3386</td>  <td>0.964</td>   <td>False</td>\n",
       "</tr>\n",
       "<tr>\n",
       "      <td>Denmark</td>      <td>Sweden</td>     <td>0.9197</td>  <td>0.2053</td> <td>-0.2338</td> <td>2.0733</td>   <td>False</td>\n",
       "</tr>\n",
       "<tr>\n",
       "      <td>Denmark</td>    <td>Switzerland</td>  <td>0.5032</td>  <td>0.7917</td> <td>-0.6518</td> <td>1.6582</td>   <td>False</td>\n",
       "</tr>\n",
       "<tr>\n",
       "      <td>Norway</td>        <td>Spain</td>     <td>-1.589</td>   <td>0.001</td> <td>-1.7899</td> <td>-1.3882</td>  <td>True</td> \n",
       "</tr>\n",
       "<tr>\n",
       "      <td>Norway</td>       <td>Sweden</td>     <td>-0.482</td>   <td>0.001</td> <td>-0.6951</td> <td>-0.2689</td>  <td>True</td> \n",
       "</tr>\n",
       "<tr>\n",
       "      <td>Norway</td>     <td>Switzerland</td>  <td>-0.8985</td>  <td>0.001</td> <td>-1.1196</td> <td>-0.6774</td>  <td>True</td> \n",
       "</tr>\n",
       "<tr>\n",
       "       <td>Spain</td>       <td>Sweden</td>      <td>1.107</td>   <td>0.001</td> <td>0.9175</td>  <td>1.2966</td>   <td>True</td> \n",
       "</tr>\n",
       "<tr>\n",
       "       <td>Spain</td>     <td>Switzerland</td>  <td>0.6905</td>   <td>0.001</td>  <td>0.492</td>  <td>0.8891</td>   <td>True</td> \n",
       "</tr>\n",
       "<tr>\n",
       "      <td>Sweden</td>     <td>Switzerland</td>  <td>-0.4165</td>  <td>0.001</td> <td>-0.6274</td> <td>-0.2056</td>  <td>True</td> \n",
       "</tr>\n",
       "</table>"
      ],
      "text/plain": [
       "<class 'statsmodels.iolib.table.SimpleTable'>"
      ]
     },
     "execution_count": 5,
     "metadata": {},
     "output_type": "execute_result"
    }
   ],
   "source": [
    "df2 = df.dropna()\n",
    "\n",
    "# Run normality test to determine what test to use\n",
    "tukey = pairwise_tukeyhsd(endog=df2['ppltrst'],      \n",
    "                          groups=df2['cntry'],   \n",
    "                          alpha=0.05)         \n",
    "\n",
    "tukey.summary()"
   ]
  },
  {
   "cell_type": "markdown",
   "metadata": {},
   "source": [
    "2. Did people become happier from 2012 to 2014? Compute results for each country in the sample."
   ]
  },
  {
   "cell_type": "code",
   "execution_count": 6,
   "metadata": {},
   "outputs": [
    {
     "data": {
      "text/plain": [
       "array([[<matplotlib.axes._subplots.AxesSubplot object at 0x0000022AB19F8A08>,\n",
       "        <matplotlib.axes._subplots.AxesSubplot object at 0x0000022AB199D148>,\n",
       "        <matplotlib.axes._subplots.AxesSubplot object at 0x0000022AB1983A88>],\n",
       "       [<matplotlib.axes._subplots.AxesSubplot object at 0x0000022AB19C9448>,\n",
       "        <matplotlib.axes._subplots.AxesSubplot object at 0x0000022AB1910D08>,\n",
       "        <matplotlib.axes._subplots.AxesSubplot object at 0x0000022AB196DE48>],\n",
       "       [<matplotlib.axes._subplots.AxesSubplot object at 0x0000022AB1A23F88>,\n",
       "        <matplotlib.axes._subplots.AxesSubplot object at 0x0000022AB1A60288>,\n",
       "        <matplotlib.axes._subplots.AxesSubplot object at 0x0000022AB1A6C048>],\n",
       "       [<matplotlib.axes._subplots.AxesSubplot object at 0x0000022AB1A83688>,\n",
       "        <matplotlib.axes._subplots.AxesSubplot object at 0x0000022AB1AE9C08>,\n",
       "        <matplotlib.axes._subplots.AxesSubplot object at 0x0000022AB1B22D08>]],\n",
       "      dtype=object)"
      ]
     },
     "execution_count": 6,
     "metadata": {},
     "output_type": "execute_result"
    },
    {
     "data": {
      "image/png": "[encoded data removed]",
      "text/plain": [
       "<Figure size 864x1296 with 12 Axes>"
      ]
     },
     "metadata": {
      "needs_background": "light"
     },
     "output_type": "display_data"
    }
   ],
   "source": [
    "plt.rcParams['figure.figsize'] = [12,18]\n",
    "\n",
    "df.hist(by=['cntry', 'year'], column='happy')"
   ]
  },
  {
   "cell_type": "code",
   "execution_count": 7,
   "metadata": {},
   "outputs": [
    {
     "data": {
      "text/html": [
       "<table class=\"simpletable\">\n",
       "<caption>Multiple Comparison of Means - Tukey HSD, FWER=0.05</caption>\n",
       "<tr>\n",
       "      <th>group1</th>       <th>group2</th>    <th>meandiff</th>  <th>p-adj</th>  <th>lower</th>   <th>upper</th>  <th>reject</th>\n",
       "</tr>\n",
       "<tr>\n",
       "  <td>Czech Republic</td>   <td>Denmark</td>    <td>0.7359</td>  <td>0.2072</td> <td>-0.1888</td> <td>1.6607</td>   <td>False</td>\n",
       "</tr>\n",
       "<tr>\n",
       "  <td>Czech Republic</td>   <td>Norway</td>     <td>1.2292</td>   <td>0.001</td> <td>1.0432</td>  <td>1.4153</td>   <td>True</td> \n",
       "</tr>\n",
       "<tr>\n",
       "  <td>Czech Republic</td>    <td>Spain</td>     <td>0.6481</td>   <td>0.001</td> <td>0.4791</td>  <td>0.8171</td>   <td>True</td> \n",
       "</tr>\n",
       "<tr>\n",
       "  <td>Czech Republic</td>   <td>Sweden</td>     <td>1.0634</td>   <td>0.001</td> <td>0.8851</td>  <td>1.2417</td>   <td>True</td> \n",
       "</tr>\n",
       "<tr>\n",
       "  <td>Czech Republic</td> <td>Switzerland</td>  <td>1.2566</td>   <td>0.001</td> <td>1.0721</td>   <td>1.441</td>   <td>True</td> \n",
       "</tr>\n",
       "<tr>\n",
       "      <td>Denmark</td>      <td>Norway</td>     <td>0.4933</td>  <td>0.6293</td> <td>-0.4299</td> <td>1.4166</td>   <td>False</td>\n",
       "</tr>\n",
       "<tr>\n",
       "      <td>Denmark</td>       <td>Spain</td>     <td>-0.0878</td>   <td>0.9</td>  <td>-1.0077</td> <td>0.8322</td>   <td>False</td>\n",
       "</tr>\n",
       "<tr>\n",
       "      <td>Denmark</td>      <td>Sweden</td>     <td>0.3275</td>    <td>0.9</td>  <td>-0.5943</td> <td>1.2492</td>   <td>False</td>\n",
       "</tr>\n",
       "<tr>\n",
       "      <td>Denmark</td>    <td>Switzerland</td>  <td>0.5206</td>  <td>0.5803</td> <td>-0.4023</td> <td>1.4435</td>   <td>False</td>\n",
       "</tr>\n",
       "<tr>\n",
       "      <td>Norway</td>        <td>Spain</td>     <td>-0.5811</td>  <td>0.001</td> <td>-0.7416</td> <td>-0.4206</td>  <td>True</td> \n",
       "</tr>\n",
       "<tr>\n",
       "      <td>Norway</td>       <td>Sweden</td>     <td>-0.1659</td> <td>0.0614</td> <td>-0.3361</td> <td>0.0044</td>   <td>False</td>\n",
       "</tr>\n",
       "<tr>\n",
       "      <td>Norway</td>     <td>Switzerland</td>  <td>0.0273</td>    <td>0.9</td>  <td>-0.1494</td>  <td>0.204</td>   <td>False</td>\n",
       "</tr>\n",
       "<tr>\n",
       "       <td>Spain</td>       <td>Sweden</td>     <td>0.4152</td>   <td>0.001</td> <td>0.2638</td>  <td>0.5667</td>   <td>True</td> \n",
       "</tr>\n",
       "<tr>\n",
       "       <td>Spain</td>     <td>Switzerland</td>  <td>0.6084</td>   <td>0.001</td> <td>0.4498</td>  <td>0.7671</td>   <td>True</td> \n",
       "</tr>\n",
       "<tr>\n",
       "      <td>Sweden</td>     <td>Switzerland</td>  <td>0.1932</td>  <td>0.0139</td> <td>0.0247</td>  <td>0.3617</td>   <td>True</td> \n",
       "</tr>\n",
       "</table>"
      ],
      "text/plain": [
       "<class 'statsmodels.iolib.table.SimpleTable'>"
      ]
     },
     "execution_count": 7,
     "metadata": {},
     "output_type": "execute_result"
    }
   ],
   "source": [
    "# Run normality test to determine what test to use\n",
    "tukey = pairwise_tukeyhsd(endog=df2['happy'],      \n",
    "                          groups=df2['cntry'],   \n",
    "                          alpha=0.05)         \n",
    "\n",
    "tukey.summary()"
   ]
  },
  {
   "cell_type": "markdown",
   "metadata": {},
   "source": [
    "3. Who reported watching more TV in 2012, men or women?"
   ]
  },
  {
   "cell_type": "code",
   "execution_count": 24,
   "metadata": {},
   "outputs": [
    {
     "data": {
      "text/plain": [
       "array([<matplotlib.axes._subplots.AxesSubplot object at 0x0000022AB3E42A08>,\n",
       "       <matplotlib.axes._subplots.AxesSubplot object at 0x0000022AB3E64A88>],\n",
       "      dtype=object)"
      ]
     },
     "execution_count": 24,
     "metadata": {},
     "output_type": "execute_result"
    },
    {
     "data": {
      "image/png": "[encoded data removed]",
      "text/plain": [
       "<Figure size 576x216 with 2 Axes>"
      ]
     },
     "metadata": {
      "needs_background": "light"
     },
     "output_type": "display_data"
    }
   ],
   "source": [
    "plt.rcParams['figure.figsize'] = [8,3]\n",
    "\n",
    "df.loc[(df['year']==2012)].hist(by=['gndr'], column='tvtot')\n"
   ]
  },
  {
   "cell_type": "code",
   "execution_count": 9,
   "metadata": {},
   "outputs": [
    {
     "data": {
      "text/html": [
       "<table class=\"simpletable\">\n",
       "<caption>Multiple Comparison of Means - Tukey HSD, FWER=0.05</caption>\n",
       "<tr>\n",
       "  <th>group1</th> <th>group2</th> <th>meandiff</th>  <th>p-adj</th>  <th>lower</th>   <th>upper</th> <th>reject</th>\n",
       "</tr>\n",
       "<tr>\n",
       "  <td>Female</td>  <td>Male</td>   <td>-0.072</td>  <td>0.1058</td> <td>-0.1593</td> <td>0.0152</td>  <td>False</td>\n",
       "</tr>\n",
       "</table>"
      ],
      "text/plain": [
       "<class 'statsmodels.iolib.table.SimpleTable'>"
      ]
     },
     "execution_count": 9,
     "metadata": {},
     "output_type": "execute_result"
    }
   ],
   "source": [
    "# Run normality test to determine what test to use\n",
    "tukey = pairwise_tukeyhsd(endog=df2['tvtot'],      \n",
    "                          groups=df2['gndr'],   \n",
    "                          alpha=0.05)         \n",
    "\n",
    "tukey.summary()"
   ]
  },
  {
   "cell_type": "code",
   "execution_count": 10,
   "metadata": {},
   "outputs": [
    {
     "data": {
      "text/plain": [
       "Ttest_indResult(statistic=-0.7321850526951791, pvalue=0.46409787829722293)"
      ]
     },
     "execution_count": 10,
     "metadata": {},
     "output_type": "execute_result"
    }
   ],
   "source": [
    "# Run t-test in order to see if the two groups are significantly different\n",
    "ttest_ind((df2.loc[(df2['year']==2012) & (df2['gndr']=='Male')])['tvtot'],\n",
    "        (df2.loc[(df2['year']==2012) & (df2['gndr']=='Female')])['tvtot'],\n",
    "         equal_var=False)"
   ]
  },
  {
   "cell_type": "code",
   "execution_count": 27,
   "metadata": {},
   "outputs": [
    {
     "name": "stdout",
     "output_type": "stream",
     "text": [
      "Men: 3.901906090190609 \n",
      "Women: 3.944392523364486\n"
     ]
    }
   ],
   "source": [
    "# Compute average tv time for men and women in 2012\n",
    "tv_men = (df.loc[(df['year']==2012) & (df['gndr']=='Male')]['tvtot']).mean()\n",
    "tv_women = (df.loc[(df['year']==2012) & (df['gndr']=='Female')])['tvtot'].mean()\n",
    "\n",
    "print(\"Men: {} \\nWomen: {}\".format(tv_men, tv_women))"
   ]
  },
  {
   "cell_type": "markdown",
   "metadata": {},
   "source": [
    "Based on our tests, it would appear as though men and women are statistically different, and women on average, watched tv slightly longer."
   ]
  },
  {
   "cell_type": "markdown",
   "metadata": {},
   "source": [
    "4. Who was more likely to believe people were fair in 2012, people living with a partner or people living alone?"
   ]
  },
  {
   "cell_type": "code",
   "execution_count": 23,
   "metadata": {},
   "outputs": [
    {
     "data": {
      "text/plain": [
       "array([<matplotlib.axes._subplots.AxesSubplot object at 0x0000022AB3D3A588>,\n",
       "       <matplotlib.axes._subplots.AxesSubplot object at 0x0000022AB3D67748>],\n",
       "      dtype=object)"
      ]
     },
     "execution_count": 23,
     "metadata": {},
     "output_type": "execute_result"
    },
    {
     "data": {
      "image/png": "[encoded data removed]",
      "text/plain": [
       "<Figure size 576x216 with 2 Axes>"
      ]
     },
     "metadata": {
      "needs_background": "light"
     },
     "output_type": "display_data"
    }
   ],
   "source": [
    "plt.rcParams['figure.figsize'] = [8,3]\n",
    "\n",
    "df.loc[(df['year']==2012)].hist(by=['partner'], column='pplfair')"
   ]
  },
  {
   "cell_type": "code",
   "execution_count": 13,
   "metadata": {},
   "outputs": [
    {
     "data": {
      "text/html": [
       "<table class=\"simpletable\">\n",
       "<caption>Multiple Comparison of Means - Tukey HSD, FWER=0.05</caption>\n",
       "<tr>\n",
       "  <th>group1</th>  <th>group2</th>  <th>meandiff</th>  <th>p-adj</th>  <th>lower</th> <th>upper</th> <th>reject</th>\n",
       "</tr>\n",
       "<tr>\n",
       "   <td>Alone</td> <td>Together</td>  <td>0.1484</td>  <td>0.0021</td> <td>0.0538</td> <td>0.243</td>  <td>True</td> \n",
       "</tr>\n",
       "</table>"
      ],
      "text/plain": [
       "<class 'statsmodels.iolib.table.SimpleTable'>"
      ]
     },
     "execution_count": 13,
     "metadata": {},
     "output_type": "execute_result"
    }
   ],
   "source": [
    "\n",
    "# Run normality test to determine what test to use\n",
    "tukey = pairwise_tukeyhsd(endog=df2['pplfair'],      \n",
    "                          groups=df2['partner'],   \n",
    "                          alpha=0.05)         \n",
    "\n",
    "tukey.summary()"
   ]
  },
  {
   "cell_type": "code",
   "execution_count": 14,
   "metadata": {},
   "outputs": [
    {
     "data": {
      "text/plain": [
       "KruskalResult(statistic=13.739649374653519, pvalue=0.00020997468964373384)"
      ]
     },
     "execution_count": 14,
     "metadata": {},
     "output_type": "execute_result"
    }
   ],
   "source": [
    "\n",
    "# Print Mood's Median test result for both domestic statuses\n",
    "alone_2012 = (df.loc[(df['year']==2012) & (df['partner']=='Alone')])['pplfair']\n",
    "together_2012 = (df.loc[(df['year']==2012) & (df['partner']=='Together')])['pplfair']\n",
    "    \n",
    "kruskal(alone_2012, together_2012, nan_policy='omit')"
   ]
  },
  {
   "cell_type": "markdown",
   "metadata": {},
   "source": [
    "Based on the results of our test, it would appear as though there is no significant difference between the two groups, people that live with a partner and people that live alone."
   ]
  },
  {
   "cell_type": "markdown",
   "metadata": {},
   "source": [
    "5. Pick three or four of the countries in the sample and compare how often people met socially in 2014. Are there differences, and if so, which countries stand out?"
   ]
  },
  {
   "cell_type": "code",
   "execution_count": 15,
   "metadata": {},
   "outputs": [
    {
     "data": {
      "text/plain": [
       "array([[<matplotlib.axes._subplots.AxesSubplot object at 0x0000022AB23D8888>,\n",
       "        <matplotlib.axes._subplots.AxesSubplot object at 0x0000022AB2413448>],\n",
       "       [<matplotlib.axes._subplots.AxesSubplot object at 0x0000022AB244A7C8>,\n",
       "        <matplotlib.axes._subplots.AxesSubplot object at 0x0000022AB2480C88>]],\n",
       "      dtype=object)"
      ]
     },
     "execution_count": 15,
     "metadata": {},
     "output_type": "execute_result"
    },
    {
     "data": {
      "image/png": "[encoded data removed]",
      "text/plain": [
       "<Figure size 432x648 with 4 Axes>"
      ]
     },
     "metadata": {
      "needs_background": "light"
     },
     "output_type": "display_data"
    }
   ],
   "source": [
    "plt.rcParams['figure.figsize'] = [6,9]\n",
    "\n",
    "# Picking scandinavian countries among all countries\n",
    "scandinavia = df2.loc[df2['cntry'].isin(['Norway', 'Sweden', 'Denmark'])]\n",
    "\n",
    "(scandinavia.loc[(scandinavia['year']==2014)]).hist(by=['cntry'], column='sclmeet')"
   ]
  },
  {
   "cell_type": "code",
   "execution_count": 16,
   "metadata": {},
   "outputs": [
    {
     "data": {
      "text/html": [
       "<table class=\"simpletable\">\n",
       "<caption>Multiple Comparison of Means - Tukey HSD, FWER=0.05</caption>\n",
       "<tr>\n",
       "  <th>group1</th>  <th>group2</th> <th>meandiff</th>  <th>p-adj</th>  <th>lower</th>   <th>upper</th> <th>reject</th>\n",
       "</tr>\n",
       "<tr>\n",
       "  <td>Denmark</td> <td>Norway</td>   <td>0.77</td>   <td>0.0093</td> <td>0.1554</td>  <td>1.3846</td>  <td>True</td> \n",
       "</tr>\n",
       "<tr>\n",
       "  <td>Denmark</td> <td>Sweden</td>  <td>0.8188</td>   <td>0.005</td> <td>0.2053</td>  <td>1.4324</td>  <td>True</td> \n",
       "</tr>\n",
       "<tr>\n",
       "  <td>Norway</td>  <td>Sweden</td>  <td>0.0489</td>  <td>0.5649</td> <td>-0.0644</td> <td>0.1622</td>  <td>False</td>\n",
       "</tr>\n",
       "</table>"
      ],
      "text/plain": [
       "<class 'statsmodels.iolib.table.SimpleTable'>"
      ]
     },
     "execution_count": 16,
     "metadata": {},
     "output_type": "execute_result"
    }
   ],
   "source": [
    "# Run normality test to determine what test to use\n",
    "tukey = pairwise_tukeyhsd(endog=scandinavia['sclmeet'],      \n",
    "                          groups=scandinavia['cntry'],   \n",
    "                          alpha=0.05)         \n",
    "\n",
    "tukey.summary()"
   ]
  },
  {
   "cell_type": "markdown",
   "metadata": {},
   "source": [
    "Based on the results of our histogram and tukey test, these distributions are clearly not normal, and since the variables that we want to measure are 3 independent groups, we will be using a Kruskal-Wallace test."
   ]
  },
  {
   "cell_type": "code",
   "execution_count": 17,
   "metadata": {},
   "outputs": [
    {
     "data": {
      "text/plain": [
       "KruskalResult(statistic=13.770182720957441, pvalue=0.0010229226963801021)"
      ]
     },
     "execution_count": 17,
     "metadata": {},
     "output_type": "execute_result"
    }
   ],
   "source": [
    "stats.kruskal((scandinavia.loc[(scandinavia['year']==2014) & (scandinavia['cntry']=='Denmark')])['sclmeet'],\n",
    "             (scandinavia.loc[(scandinavia['year']==2014) & (scandinavia['cntry']=='Norway')])['sclmeet'],\n",
    "             (scandinavia.loc[(scandinavia['year']==2014) & (scandinavia['cntry']=='Sweden')])['sclmeet']\n",
    "             )"
   ]
  },
  {
   "cell_type": "markdown",
   "metadata": {},
   "source": [
    "6. Pick three or four of the countries in the sample and compare how often people took part in social activities, relative to others their age, in 2014. Are there differences, and if so, which countries stand out?"
   ]
  },
  {
   "cell_type": "code",
   "execution_count": 18,
   "metadata": {},
   "outputs": [
    {
     "data": {
      "text/plain": [
       "array([[<matplotlib.axes._subplots.AxesSubplot object at 0x0000022AB256D588>,\n",
       "        <matplotlib.axes._subplots.AxesSubplot object at 0x0000022AB255E0C8>],\n",
       "       [<matplotlib.axes._subplots.AxesSubplot object at 0x0000022AB25DF2C8>,\n",
       "        <matplotlib.axes._subplots.AxesSubplot object at 0x0000022AB26183C8>]],\n",
       "      dtype=object)"
      ]
     },
     "execution_count": 18,
     "metadata": {},
     "output_type": "execute_result"
    },
    {
     "data": {
      "image/png": "[encoded data removed]",
      "text/plain": [
       "<Figure size 432x648 with 4 Axes>"
      ]
     },
     "metadata": {
      "needs_background": "light"
     },
     "output_type": "display_data"
    }
   ],
   "source": [
    "plt.rcParams['figure.figsize'] = [6,9]\n",
    "\n",
    "(scandinavia.loc[(scandinavia['year']==2014)]).hist(by=['cntry'], column='sclact')\n"
   ]
  },
  {
   "cell_type": "code",
   "execution_count": 19,
   "metadata": {},
   "outputs": [
    {
     "data": {
      "text/html": [
       "<table class=\"simpletable\">\n",
       "<caption>Multiple Comparison of Means - Tukey HSD, FWER=0.05</caption>\n",
       "<tr>\n",
       "  <th>group1</th>  <th>group2</th> <th>meandiff</th>  <th>p-adj</th>  <th>lower</th>   <th>upper</th> <th>reject</th>\n",
       "</tr>\n",
       "<tr>\n",
       "  <td>Denmark</td> <td>Norway</td>  <td>0.0993</td>   <td>0.796</td> <td>-0.2838</td> <td>0.4823</td>  <td>False</td>\n",
       "</tr>\n",
       "<tr>\n",
       "  <td>Denmark</td> <td>Sweden</td>  <td>0.0803</td>  <td>0.8619</td> <td>-0.3021</td> <td>0.4627</td>  <td>False</td>\n",
       "</tr>\n",
       "<tr>\n",
       "  <td>Norway</td>  <td>Sweden</td>  <td>-0.019</td>  <td>0.7837</td> <td>-0.0896</td> <td>0.0517</td>  <td>False</td>\n",
       "</tr>\n",
       "</table>"
      ],
      "text/plain": [
       "<class 'statsmodels.iolib.table.SimpleTable'>"
      ]
     },
     "execution_count": 19,
     "metadata": {},
     "output_type": "execute_result"
    }
   ],
   "source": [
    "# Run normality test to determine what test to use\n",
    "tukey = pairwise_tukeyhsd(endog=scandinavia['sclact'],      \n",
    "                          groups=scandinavia['cntry'],   \n",
    "                          alpha=0.05)         \n",
    "\n",
    "tukey.summary()"
   ]
  },
  {
   "cell_type": "code",
   "execution_count": 20,
   "metadata": {},
   "outputs": [
    {
     "data": {
      "text/plain": [
       "KruskalResult(statistic=0.8337838205438339, pvalue=0.6590921571860962)"
      ]
     },
     "execution_count": 20,
     "metadata": {},
     "output_type": "execute_result"
    }
   ],
   "source": [
    "stats.kruskal((scandinavia.loc[(scandinavia['year']==2014) & (scandinavia['cntry']=='Denmark')])['sclact'],\n",
    "             (scandinavia.loc[(scandinavia['year']==2014) & (scandinavia['cntry']=='Norway')])['sclact'],\n",
    "             (scandinavia.loc[(scandinavia['year']==2014) & (scandinavia['cntry']=='Sweden')])['sclact']\n",
    "             )\n",
    "\n"
   ]
  },
  {
   "cell_type": "code",
   "execution_count": null,
   "metadata": {},
   "outputs": [],
   "source": []
  }
 ],
 "metadata": {
  "kernelspec": {
   "display_name": "Python 3",
   "language": "python",
   "name": "python3"
  },
  "language_info": {
   "codemirror_mode": {
    "name": "ipython",
    "version": 3
   },
   "file_extension": ".py",
   "mimetype": "text/x-python",
   "name": "python",
   "nbconvert_exporter": "python",
   "pygments_lexer": "ipython3",
   "version": "3.7.4"
  }
 },
 "nbformat": 4,
 "nbformat_minor": 2
}
